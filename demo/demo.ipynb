{
 "cells": [
  {
   "cell_type": "markdown",
   "metadata": {},
   "source": [
    "# Turkish Diacritization with LSTM\n",
    "\n",
    "This notebook demonstrates the use of a Long Short-Term Memory (LSTM) network to add diacritics to Turkish texts. It involves loading a trained model, defining the model architecture, and using it for predicting diacritics on new sentences."
   ]
  },
  {
   "cell_type": "markdown",
   "metadata": {},
   "source": [
    "## Setup and Configuration\n",
    "\n",
    "### Import Libraries"
   ]
  },
  {
   "cell_type": "code",
   "execution_count": 1,
   "metadata": {},
   "outputs": [],
   "source": [
    "import torch\n",
    "import torch.nn as nn\n",
    "import torch.nn.functional as F\n",
    "from torch.nn.utils.rnn import pad_sequence\n",
    "import pickle\n",
    "import ast"
   ]
  },
  {
   "cell_type": "markdown",
   "metadata": {},
   "source": [
    "### Device Configuration"
   ]
  },
  {
   "cell_type": "code",
   "execution_count": 2,
   "metadata": {},
   "outputs": [],
   "source": [
    "device = torch.device(\"cuda\" if torch.cuda.is_available() else \"cpu\")"
   ]
  },
  {
   "cell_type": "markdown",
   "metadata": {},
   "source": [
    "## Model and Data Preparation\n",
    "\n",
    "### Load Vocabularies\n"
   ]
  },
  {
   "cell_type": "code",
   "execution_count": 3,
   "metadata": {},
   "outputs": [],
   "source": [
    "with open(\"vocab.pkl\", \"rb\") as f:\n",
    "    vocab = pickle.load(f)\n",
    "\n",
    "with open(\"inv_vocab.pkl\", \"rb\") as f:\n",
    "    inv_vocab = pickle.load(f)"
   ]
  },
  {
   "cell_type": "markdown",
   "metadata": {},
   "source": [
    "### Define the Model Architecture"
   ]
  },
  {
   "cell_type": "code",
   "execution_count": 4,
   "metadata": {},
   "outputs": [],
   "source": [
    "class DiacriticModel(nn.Module):\n",
    "    def __init__(self, vocab_size, embedding_dim, hidden_dim, num_layers):\n",
    "        super(DiacriticModel, self).__init__()\n",
    "        self.num_layers = num_layers\n",
    "        self.hidden_dim = hidden_dim\n",
    "        self.embedding = nn.Embedding(vocab_size, embedding_dim)\n",
    "        self.encoder = nn.LSTM(embedding_dim, hidden_dim, num_layers, batch_first=True, bidirectional=True)\n",
    "        self.decoder = nn.LSTM(embedding_dim, hidden_dim * 2, num_layers, batch_first=True) \n",
    "        self.fc = nn.Linear(hidden_dim * 2, vocab_size)\n",
    "\n",
    "    def forward(self, x, hidden):\n",
    "        embedded = self.embedding(x)\n",
    "        encoder_output, encoder_hidden = self.encoder(embedded, hidden)\n",
    "        decoder_hidden = self.transform_hidden(encoder_hidden)\n",
    "        output, hidden = self.decoder(embedded, decoder_hidden)\n",
    "        output = self.fc(output)\n",
    "        return output, hidden\n",
    "\n",
    "    def transform_hidden(self, encoder_hidden):\n",
    "        h_n, c_n = encoder_hidden\n",
    "        h_n = torch.cat([h_n[0:h_n.size(0):2], h_n[1:h_n.size(0):2]], dim=2)\n",
    "        c_n = torch.cat([c_n[0:c_n.size(0):2], c_n[1:c_n.size(0):2]], dim=2)\n",
    "        return (h_n, c_n)\n",
    "\n",
    "    def init_hidden(self, batch_size):\n",
    "        return (torch.zeros(self.num_layers * 2, batch_size, self.hidden_dim).to(device),\n",
    "                torch.zeros(self.num_layers * 2, batch_size, self.hidden_dim).to(device))"
   ]
  },
  {
   "cell_type": "markdown",
   "metadata": {},
   "source": [
    "## Model Loading\n",
    "\n",
    "### Initialize and Load the Model"
   ]
  },
  {
   "cell_type": "code",
   "execution_count": 5,
   "metadata": {},
   "outputs": [
    {
     "data": {
      "text/plain": [
       "DiacriticModel(\n",
       "  (embedding): Embedding(111, 256)\n",
       "  (encoder): LSTM(256, 512, num_layers=2, batch_first=True, bidirectional=True)\n",
       "  (decoder): LSTM(256, 1024, num_layers=2, batch_first=True)\n",
       "  (fc): Linear(in_features=1024, out_features=111, bias=True)\n",
       ")"
      ]
     },
     "execution_count": 5,
     "metadata": {},
     "output_type": "execute_result"
    }
   ],
   "source": [
    "model_path = \"model_epoch_2.pth\"\n",
    "model = DiacriticModel(len(vocab), 256, 512, 2).to(device)\n",
    "model.load_state_dict(torch.load(model_path, map_location=device))\n",
    "model.eval()"
   ]
  },
  {
   "cell_type": "markdown",
   "metadata": {},
   "source": [
    "## Input Processing and Prediction\n",
    "\n",
    "### Define Input Processing Functions"
   ]
  },
  {
   "cell_type": "code",
   "execution_count": 6,
   "metadata": {},
   "outputs": [],
   "source": [
    "def process_input(sentence, vocab):\n",
    "    indices = [vocab.get(char, vocab[\"<unk>\"]) for char in sentence]\n",
    "    tensor_input = pad_sequence([torch.tensor(indices)], batch_first=True, padding_value=vocab[\"<pad>\"]).to(device)\n",
    "    return tensor_input"
   ]
  },
  {
   "cell_type": "markdown",
   "metadata": {},
   "source": [
    "### Prediction Function"
   ]
  },
  {
   "cell_type": "code",
   "execution_count": 7,
   "metadata": {},
   "outputs": [],
   "source": [
    "def predict_sentence(model, sentence, vocab, inv_vocab):\n",
    "    input_tensor = process_input(sentence, vocab)\n",
    "    hidden = model.init_hidden(input_tensor.size(0))\n",
    "    with torch.no_grad():\n",
    "        output, _ = model(input_tensor, hidden)\n",
    "        predicted_indices = output.argmax(dim=2).squeeze(0)\n",
    "        predicted_sentence = \"\".join(inv_vocab[idx.item()] for idx in predicted_indices)\n",
    "    return predicted_sentence"
   ]
  },
  {
   "cell_type": "markdown",
   "metadata": {},
   "source": [
    "## Interactive Testing\n",
    "\n",
    "### Perform Predictions"
   ]
  },
  {
   "cell_type": "code",
   "execution_count": 10,
   "metadata": {},
   "outputs": [],
   "source": [
    "input_sentence = \"fillistin ya da filistin devleti isgal altindaki filistin topraklari icin kullanilmaktadir\"\n",
    "output_sentence = predict_sentence(model, input_sentence, vocab, inv_vocab)"
   ]
  },
  {
   "cell_type": "markdown",
   "metadata": {},
   "source": [
    "## Output"
   ]
  },
  {
   "cell_type": "code",
   "execution_count": 9,
   "metadata": {},
   "outputs": [
    {
     "name": "stdout",
     "output_type": "stream",
     "text": [
      "Diacritized sentence: fillistin ya da filistin devleti isgal altındaki filistin toprakları için kullanılmaktadır\n"
     ]
    }
   ],
   "source": [
    "print(\"Diacritized sentence:\", output_sentence)"
   ]
  }
 ],
 "metadata": {
  "kernelspec": {
   "display_name": "nlp_project_venv",
   "language": "python",
   "name": "nlp_project"
  },
  "language_info": {
   "codemirror_mode": {
    "name": "ipython",
    "version": 3
   },
   "file_extension": ".py",
   "mimetype": "text/x-python",
   "name": "python",
   "nbconvert_exporter": "python",
   "pygments_lexer": "ipython3",
   "version": "3.12.2"
  }
 },
 "nbformat": 4,
 "nbformat_minor": 2
}
