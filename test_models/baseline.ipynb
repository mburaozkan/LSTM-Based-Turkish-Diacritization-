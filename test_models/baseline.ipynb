{
 "cells": [
  {
   "cell_type": "code",
   "execution_count": 24,
   "metadata": {},
   "outputs": [],
   "source": [
    "import pandas as pd\n",
    "from nltk import bigrams, ConditionalFreqDist\n",
    "import re\n"
   ]
  },
  {
   "cell_type": "code",
   "execution_count": 28,
   "metadata": {},
   "outputs": [],
   "source": [
    "file_path = './data/cleaned.csv'\n",
    "data = pd.read_csv(file_path)\n",
    "data['char_tokens'] = data['char_tokens'].apply(eval)\n"
   ]
  },
  {
   "cell_type": "code",
   "execution_count": 29,
   "metadata": {},
   "outputs": [],
   "source": [
    "from nltk import ngrams\n",
    "# Generate higher order n-grams\n",
    "n = 3  # For trigrams\n",
    "all_ngrams = []\n",
    "for tokens in data['char_tokens']:\n",
    "    token_ngrams = list(ngrams(tokens, n))\n",
    "    all_ngrams.extend(token_ngrams)\n",
    "\n",
    "# Update your frequency distribution to use these n-grams\n",
    "cfd = ConditionalFreqDist((ngram[:-1], ngram[-1]) for ngram in all_ngrams)\n",
    "\n",
    "\n",
    "# Function to apply diacritization\n",
    "def diacritize(text):\n",
    "    char_tokens = list(text)\n",
    "    diacritized_text = []\n",
    "\n",
    "    for i in range(len(char_tokens)):\n",
    "        current_char = char_tokens[i]\n",
    "        prev_char = char_tokens[i - 1] if i > 0 else None\n",
    "        \n",
    "        if current_char in ['c', 'g', 'i', 'o', 's', 'u']:  # Only check for characters that might need diacritics\n",
    "            if prev_char:  # Check if there's a previous character to consider\n",
    "                possible_chars = cfd[prev_char].most_common()\n",
    "                if possible_chars:\n",
    "                    # Find the most common successor that matches the potential diacritic versions of the current character\n",
    "                    replacements = {\n",
    "                        'c': 'ç', 'g': 'ğ', 'i': 'ı', 'o': 'ö', 's': 'ş', 'u': 'ü'\n",
    "                    }\n",
    "                    # Check if a replacement character exists in the predictions\n",
    "                    predicted_chars = [p[0] for p in possible_chars]\n",
    "                    for predicted_char in predicted_chars:\n",
    "                        if predicted_char in replacements.values():\n",
    "                            current_char = predicted_char\n",
    "                            break\n",
    "        diacritized_text.append(current_char)\n",
    "\n",
    "    return ''.join(diacritized_text)\n"
   ]
  },
  {
   "cell_type": "code",
   "execution_count": 30,
   "metadata": {},
   "outputs": [
    {
     "name": "stdout",
     "output_type": "stream",
     "text": [
      "sisman bir cingene kadininin kucuk kizina bakmasi icin bir kucuk cocuk verilir.\n"
     ]
    }
   ],
   "source": [
    "# Example usage\n",
    "sample_text = \"sisman bir cingene kadininin kucuk kizina bakmasi icin bir kucuk cocuk verilir.\"\n",
    "diacritized_output = diacritize(sample_text)\n",
    "print(diacritized_output)\n"
   ]
  },
  {
   "cell_type": "code",
   "execution_count": null,
   "metadata": {},
   "outputs": [],
   "source": []
  }
 ],
 "metadata": {
  "kernelspec": {
   "display_name": "nlp_project_venv",
   "language": "python",
   "name": "nlp_project"
  },
  "language_info": {
   "codemirror_mode": {
    "name": "ipython",
    "version": 3
   },
   "file_extension": ".py",
   "mimetype": "text/x-python",
   "name": "python",
   "nbconvert_exporter": "python",
   "pygments_lexer": "ipython3",
   "version": "3.12.2"
  }
 },
 "nbformat": 4,
 "nbformat_minor": 2
}
