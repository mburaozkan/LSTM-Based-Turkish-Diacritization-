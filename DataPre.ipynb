{
 "cells": [
  {
   "cell_type": "code",
   "execution_count": 17,
   "id": "9731fa6e-84cf-444e-99d6-050c792f5cc4",
   "metadata": {},
   "outputs": [],
   "source": [
    "import re\n",
    "import nltk\n",
    "import zeyrek\n",
    "import pandas as pd\n",
    "from bs4 import BeautifulSoup\n",
    "from nltk.corpus import stopwords\n",
    "from nltk.tokenize import word_tokenize\n",
    "from nltk.stem.snowball import SnowballStemmer"
   ]
  },
  {
   "cell_type": "code",
   "execution_count": 2,
   "id": "3669447c-d23d-48c2-8aec-07887848b2b1",
   "metadata": {},
   "outputs": [
    {
     "name": "stderr",
     "output_type": "stream",
     "text": [
      "[nltk_data] Downloading package stopwords to\n",
      "[nltk_data]     C:\\Users\\mbber\\AppData\\Roaming\\nltk_data...\n",
      "[nltk_data]   Package stopwords is already up-to-date!\n",
      "[nltk_data] Downloading package punkt to\n",
      "[nltk_data]     C:\\Users\\mbber\\AppData\\Roaming\\nltk_data...\n",
      "[nltk_data]   Package punkt is already up-to-date!\n"
     ]
    },
    {
     "data": {
      "text/plain": [
       "True"
      ]
     },
     "execution_count": 2,
     "metadata": {},
     "output_type": "execute_result"
    }
   ],
   "source": [
    "nltk.download('stopwords')\n",
    "nltk.download('punkt')"
   ]
  },
  {
   "cell_type": "markdown",
   "id": "35a5743e-5c86-4c5a-9760-9b57cd7e9251",
   "metadata": {},
   "source": [
    "### Step 0: Setup and Load Data"
   ]
  },
  {
   "cell_type": "code",
   "execution_count": 4,
   "id": "78c2c0d2-a77b-474c-bc0c-d7dc61057ae8",
   "metadata": {},
   "outputs": [
    {
     "name": "stdout",
     "output_type": "stream",
     "text": [
      "   ID                                           Sentence\n",
      "0   0  sınıf , havuz ve açık deniz çalışmalarıyla , t...\n",
      "1   1  bu standart , sualtında kendini rahat hisseden...\n",
      "2   2  yapılan araştırmalar , öğrencilerin mevcut dal...\n",
      "3   3  pdıc öğrencilerinde , psikolojik eğitim ve yet...\n",
      "4   4  pdıc eğitiminin sağladığı güven ve rahatlık , ...\n"
     ]
    }
   ],
   "source": [
    "# Load the dataset\n",
    "file_path = 'train.csv'\n",
    "data = pd.read_csv(file_path)\n",
    "\n",
    "# Display the first few rows of the dataframe\n",
    "print(data.head())\n"
   ]
  },
  {
   "cell_type": "markdown",
   "id": "ebe15341-0a1a-455c-8da7-fcb6dbcf07dc",
   "metadata": {},
   "source": [
    "### Step 1: Text Normalization"
   ]
  },
  {
   "cell_type": "code",
   "execution_count": 5,
   "id": "27fa9026-58ee-4c82-955e-69890ea484ea",
   "metadata": {},
   "outputs": [],
   "source": [
    "def normalize_text(text):\n",
    "    # Convert text to lowercase\n",
    "    text = text.lower()\n",
    "    # Remove extra whitespace\n",
    "    text = re.sub(r'\\s+', ' ', text)\n",
    "    # Standardize punctuation (example shown for a common case)\n",
    "    text = re.sub(r'[\\u201C\\u201D]', '\"', text)  # Convert smart quotes to standard quotes\n",
    "    return text"
   ]
  },
  {
   "cell_type": "code",
   "execution_count": 7,
   "id": "042f1488-75a2-4b76-8293-1e762df87c07",
   "metadata": {},
   "outputs": [],
   "source": [
    "data['normalized_text'] = data['Sentence'].apply(normalize_text)"
   ]
  },
  {
   "cell_type": "markdown",
   "id": "32eb63d7-2933-4959-921f-969e58562e3c",
   "metadata": {},
   "source": [
    "### Step 2: Removal of HTML Tags and Symbols"
   ]
  },
  {
   "cell_type": "code",
   "execution_count": 8,
   "id": "6aaf2e48-fdea-4cc4-8915-2fdca54e81f1",
   "metadata": {},
   "outputs": [],
   "source": [
    "def remove_html_tags(text):\n",
    "    soup = BeautifulSoup(text, \"html.parser\")\n",
    "    return soup.get_text()"
   ]
  },
  {
   "cell_type": "code",
   "execution_count": 9,
   "id": "86c48f6d-7850-4651-a739-6650a704cf28",
   "metadata": {},
   "outputs": [
    {
     "name": "stderr",
     "output_type": "stream",
     "text": [
      "C:\\Users\\mbber\\AppData\\Local\\Temp\\ipykernel_9528\\704213473.py:2: MarkupResemblesLocatorWarning: The input looks more like a filename than markup. You may want to open this file and pass the filehandle into Beautiful Soup.\n",
      "  soup = BeautifulSoup(text, \"html.parser\")\n"
     ]
    }
   ],
   "source": [
    "data['clean_text'] = data['normalized_text'].apply(remove_html_tags)"
   ]
  },
  {
   "cell_type": "markdown",
   "id": "0b3d728f-233d-46cc-aaa6-89e2cb0ea567",
   "metadata": {},
   "source": [
    "### Step 3: Tokenization"
   ]
  },
  {
   "cell_type": "code",
   "execution_count": 10,
   "id": "d123974d-22c4-4e67-81f3-a63d5875c214",
   "metadata": {},
   "outputs": [],
   "source": [
    "def tokenize_text(text):\n",
    "    # Tokenize text\n",
    "    tokens = word_tokenize(text, language='turkish')\n",
    "    return tokens"
   ]
  },
  {
   "cell_type": "code",
   "execution_count": 11,
   "id": "b047321a-2ba9-40fb-9a38-494df2399aaa",
   "metadata": {},
   "outputs": [],
   "source": [
    "data['tokens'] = data['clean_text'].apply(tokenize_text)"
   ]
  },
  {
   "cell_type": "markdown",
   "id": "754b11d8-1354-4453-ba91-f99eeb66328e",
   "metadata": {},
   "source": [
    "### Step 4: Numerical, Date, and Time Handling"
   ]
  },
  {
   "cell_type": "code",
   "execution_count": 12,
   "id": "d74d2cc8-c611-4d95-8007-9b1926af34fc",
   "metadata": {},
   "outputs": [],
   "source": [
    "def standardize_dates(text):\n",
    "    # Example: Replace dates in format 'dd/mm/yyyy' with 'DATE'\n",
    "    text = re.sub(r'\\b\\d{1,2}/\\d{1,2}/\\d{4}\\b', 'DATE', text)\n",
    "    return text"
   ]
  },
  {
   "cell_type": "code",
   "execution_count": 13,
   "id": "7983d4fa-ef0c-485c-a727-ae4ddb8ed9c3",
   "metadata": {},
   "outputs": [],
   "source": [
    "data['standardized_text'] = data['clean_text'].apply(standardize_dates)"
   ]
  },
  {
   "cell_type": "markdown",
   "id": "a4fa42fc-6b61-465a-bb82-7f0a5176286c",
   "metadata": {},
   "source": [
    "### Step 5: Stop Word Removal"
   ]
  },
  {
   "cell_type": "code",
   "execution_count": 14,
   "id": "1c4958bd-57e9-45a7-b4ef-cdab1ec777fb",
   "metadata": {},
   "outputs": [],
   "source": [
    "stop_words = set(stopwords.words('turkish'))\n",
    "\n",
    "def remove_stop_words(tokens):\n",
    "    filtered_tokens = [word for word in tokens if word not in stop_words]\n",
    "    return filtered_tokens\n",
    "\n",
    "data['filtered_tokens'] = data['tokens'].apply(remove_stop_words)"
   ]
  },
  {
   "cell_type": "markdown",
   "id": "8aee9893-757e-4ce6-bfe8-d0917498447b",
   "metadata": {},
   "source": [
    "### Step 6: Lemmatization"
   ]
  },
  {
   "cell_type": "code",
   "execution_count": 18,
   "id": "cadf0dd3-d481-407e-9f04-35e027da431d",
   "metadata": {},
   "outputs": [],
   "source": [
    "def lemmatize_tokens(tokens):\n",
    "    # Zeyrek returns a tuple with various analyses; we take the first lemma (if available)\n",
    "    lemmatized_tokens = [lemmatizer.lemmatize(word)[0][1][0] if lemmatizer.lemmatize(word) else word for word in tokens]\n",
    "    return lemmatized_tokens"
   ]
  },
  {
   "cell_type": "code",
   "execution_count": 19,
   "id": "f796ef8a-c373-49bb-ae49-9bfe2ff41b35",
   "metadata": {},
   "outputs": [
    {
     "ename": "ValueError",
     "evalue": "The language 'turkish' is not supported.",
     "output_type": "error",
     "traceback": [
      "\u001b[1;31m---------------------------------------------------------------------------\u001b[0m",
      "\u001b[1;31mValueError\u001b[0m                                Traceback (most recent call last)",
      "Cell \u001b[1;32mIn[19], line 2\u001b[0m\n\u001b[0;32m      1\u001b[0m \u001b[38;5;66;03m# Initialize the stemmer\u001b[39;00m\n\u001b[1;32m----> 2\u001b[0m stemmer \u001b[38;5;241m=\u001b[39m \u001b[43mSnowballStemmer\u001b[49m\u001b[43m(\u001b[49m\u001b[38;5;124;43m\"\u001b[39;49m\u001b[38;5;124;43mturkish\u001b[39;49m\u001b[38;5;124;43m\"\u001b[39;49m\u001b[43m)\u001b[49m\n\u001b[0;32m      4\u001b[0m \u001b[38;5;66;03m# Initialize Zeyrek lemmatizer\u001b[39;00m\n\u001b[0;32m      5\u001b[0m lemmatizer \u001b[38;5;241m=\u001b[39m zeyrek\u001b[38;5;241m.\u001b[39mMorphAnalyzer()\n",
      "File \u001b[1;32m~\\AppData\\Local\\Packages\\PythonSoftwareFoundation.Python.3.10_qbz5n2kfra8p0\\LocalCache\\local-packages\\Python310\\site-packages\\nltk\\stem\\snowball.py:106\u001b[0m, in \u001b[0;36mSnowballStemmer.__init__\u001b[1;34m(self, language, ignore_stopwords)\u001b[0m\n\u001b[0;32m    104\u001b[0m \u001b[38;5;28;01mdef\u001b[39;00m \u001b[38;5;21m__init__\u001b[39m(\u001b[38;5;28mself\u001b[39m, language, ignore_stopwords\u001b[38;5;241m=\u001b[39m\u001b[38;5;28;01mFalse\u001b[39;00m):\n\u001b[0;32m    105\u001b[0m     \u001b[38;5;28;01mif\u001b[39;00m language \u001b[38;5;129;01mnot\u001b[39;00m \u001b[38;5;129;01min\u001b[39;00m \u001b[38;5;28mself\u001b[39m\u001b[38;5;241m.\u001b[39mlanguages:\n\u001b[1;32m--> 106\u001b[0m         \u001b[38;5;28;01mraise\u001b[39;00m \u001b[38;5;167;01mValueError\u001b[39;00m(\u001b[38;5;124mf\u001b[39m\u001b[38;5;124m\"\u001b[39m\u001b[38;5;124mThe language \u001b[39m\u001b[38;5;124m'\u001b[39m\u001b[38;5;132;01m{\u001b[39;00mlanguage\u001b[38;5;132;01m}\u001b[39;00m\u001b[38;5;124m'\u001b[39m\u001b[38;5;124m is not supported.\u001b[39m\u001b[38;5;124m\"\u001b[39m)\n\u001b[0;32m    107\u001b[0m     stemmerclass \u001b[38;5;241m=\u001b[39m \u001b[38;5;28mglobals\u001b[39m()[language\u001b[38;5;241m.\u001b[39mcapitalize() \u001b[38;5;241m+\u001b[39m \u001b[38;5;124m\"\u001b[39m\u001b[38;5;124mStemmer\u001b[39m\u001b[38;5;124m\"\u001b[39m]\n\u001b[0;32m    108\u001b[0m     \u001b[38;5;28mself\u001b[39m\u001b[38;5;241m.\u001b[39mstemmer \u001b[38;5;241m=\u001b[39m stemmerclass(ignore_stopwords)\n",
      "\u001b[1;31mValueError\u001b[0m: The language 'turkish' is not supported."
     ]
    }
   ],
   "source": [
    "# Initialize Zeyrek lemmatizer\n",
    "lemmatizer = zeyrek.MorphAnalyzer()\n",
    "\n",
    "# Applying lemmatization to your tokens column\n",
    "data['lemmatized_tokens'] = data['filtered_tokens'].apply(lemmatize_tokens)"
   ]
  },
  {
   "cell_type": "code",
   "execution_count": null,
   "id": "ddb2fe64-fdd5-438f-a2a2-15fcd6e71758",
   "metadata": {},
   "outputs": [],
   "source": []
  }
 ],
 "metadata": {
  "kernelspec": {
   "display_name": "Python 3 (ipykernel)",
   "language": "python",
   "name": "python3"
  },
  "language_info": {
   "codemirror_mode": {
    "name": "ipython",
    "version": 3
   },
   "file_extension": ".py",
   "mimetype": "text/x-python",
   "name": "python",
   "nbconvert_exporter": "python",
   "pygments_lexer": "ipython3",
   "version": "3.10.11"
  }
 },
 "nbformat": 4,
 "nbformat_minor": 5
}
